{
 "cells": [
  {
   "cell_type": "code",
   "execution_count": 1,
   "metadata": {},
   "outputs": [],
   "source": [
    "import sqlite3\n",
    "import json\n",
    "from utils.utils_v2 import *"
   ]
  },
  {
   "cell_type": "code",
   "execution_count": 2,
   "metadata": {},
   "outputs": [],
   "source": [
    "DB = \"sample_db.sqlite\"\n",
    "\n",
    "def get_all( sql='' ):\n",
    "    conn = sqlite3.connect( DB )\n",
    "    conn.row_factory = sqlite3.Row # This enables column access by name: row['column_name'] \n",
    "    db = conn.cursor()\n",
    "\n",
    "    rows = db.execute(sql).fetchall()\n",
    "\n",
    "    conn.commit()\n",
    "    conn.close()\n",
    "\n",
    "    return  [dict(ix) for ix in rows] #CREATE JSON"
   ]
  },
  {
   "cell_type": "code",
   "execution_count": 3,
   "metadata": {},
   "outputs": [],
   "source": [
    "def insert_result_detail(data):\n",
    "    conn = sqlite3.connect(DB)\n",
    "    c = conn.cursor()\n",
    "    c.executemany('INSERT INTO result_detail (id_result, order_number, vote) '\n",
    "                 'VALUES (:id_result,:order_number,:vote)', data)\n",
    "    conn.commit()\n",
    "    conn.close()"
   ]
  },
  {
   "cell_type": "code",
   "execution_count": 4,
   "metadata": {},
   "outputs": [],
   "source": [
    "results = get_all('SELECT * FROM result WHERE processed = 0')"
   ]
  },
  {
   "cell_type": "code",
   "execution_count": 6,
   "metadata": {},
   "outputs": [],
   "source": [
    "election = get_all('SELECT * FROM election WHERE id = %s'%results[0]['id'])[0]"
   ]
  },
  {
   "cell_type": "code",
   "execution_count": 8,
   "metadata": {},
   "outputs": [],
   "source": [
    "if election['num_persons'] <= 20:\n",
    "    num_col = 2\n",
    "else:\n",
    "    num_col=4"
   ]
  },
  {
   "cell_type": "code",
   "execution_count": 13,
   "metadata": {},
   "outputs": [
    {
     "name": "stderr",
     "output_type": "stream",
     "text": [
      "/home/hungnt/workspace/admin_kp/utils/utils_v2.py:56: RuntimeWarning: invalid value encountered in true_divide\n",
      "  return vector / np.linalg.norm(vector)\n"
     ]
    }
   ],
   "source": [
    "data_result = []\n",
    "data_result_detail = []\n",
    "for result in results:\n",
    "    temp = validation_full(path_origin='app/static/uploads/images/%s/%s.jpg'%(result['id_election'], result['id_election']), \n",
    "                           path_test=result['image'], num_col=num_col)\n",
    "    if temp[0] == False:\n",
    "        result['processed'] = 3\n",
    "        result['description'] = temp[1]\n",
    "    else:\n",
    "        total_vote = 0\n",
    "        for result_detail in temp[1]:\n",
    "            total_vote += result_detail['vote']\n",
    "            result_detail['id_result'] = result['id']\n",
    "        if total_vote < election['min_persions'] :\n",
    "            result['processed'] = 3\n",
    "            result['description'] = \"Số lượng bầu chọn quá ít (%s đại biểu)\"%total_vote\n",
    "        elif total_vote > election['max_persions']:\n",
    "            result['processed'] = 3\n",
    "            result['description'] = \"Số lượng bầu chọn quá nhiều (%s đại biểu)\"%total_vote\n",
    "        else:\n",
    "#             result['results_detail'] = temp[1]\n",
    "            result['processed'] = 2\n",
    "            data_result_detail.extend(temp[1])\n",
    "    data_result.append({\n",
    "        'id': result['id'],\n",
    "        'processed': result['processed'],\n",
    "        'description': result['description']\n",
    "    })"
   ]
  },
  {
   "cell_type": "code",
   "execution_count": 24,
   "metadata": {},
   "outputs": [],
   "source": [
    "def update_result(data):\n",
    "    conn = sqlite3.connect(DB)\n",
    "    c = conn.cursor()\n",
    "    c.executemany('UPDATE result SET processed = :processed, description = :description WHERE id = :id', data)\n",
    "    conn.commit()\n",
    "    conn.close()"
   ]
  },
  {
   "cell_type": "code",
   "execution_count": 28,
   "metadata": {},
   "outputs": [],
   "source": [
    "def update_election(id_election):\n",
    "    conn = sqlite3.connect(DB)\n",
    "    c = conn.cursor()\n",
    "    c.execute('UPDATE election SET status = 2 WHERE id = %s'%id_election)\n",
    "    conn.commit()\n",
    "    conn.close()"
   ]
  },
  {
   "cell_type": "code",
   "execution_count": null,
   "metadata": {},
   "outputs": [],
   "source": [
    "insert_result_detail(data_result_detail)"
   ]
  },
  {
   "cell_type": "code",
   "execution_count": null,
   "metadata": {},
   "outputs": [],
   "source": [
    "update_result(data_result)"
   ]
  },
  {
   "cell_type": "code",
   "execution_count": 29,
   "metadata": {},
   "outputs": [],
   "source": [
    "update_election(election['id'])"
   ]
  },
  {
   "cell_type": "code",
   "execution_count": null,
   "metadata": {},
   "outputs": [],
   "source": []
  }
 ],
 "metadata": {
  "kernelspec": {
   "display_name": "Python 3",
   "language": "python",
   "name": "python3"
  },
  "language_info": {
   "codemirror_mode": {
    "name": "ipython",
    "version": 3
   },
   "file_extension": ".py",
   "mimetype": "text/x-python",
   "name": "python",
   "nbconvert_exporter": "python",
   "pygments_lexer": "ipython3",
   "version": "3.6.8"
  }
 },
 "nbformat": 4,
 "nbformat_minor": 2
}
